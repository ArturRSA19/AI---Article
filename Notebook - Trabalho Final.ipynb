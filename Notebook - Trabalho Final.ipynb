{
 "cells": [
  {
   "cell_type": "markdown",
   "metadata": {},
   "source": [
    "# Trabalho Final da Disciplina de Tópicos Especiais em Matemática Aplicada (FGA0034) \n",
    "\n",
    "## Integrantes:\n",
    "#### 1 - Artur Rodrigues Sousa Alves - 211043638\n",
    "#### 2 - Danilo Carvalho Antunes - 211039312\n",
    "#### 3 - Guilherme Soares Rocha - 211039789\n",
    "\n",
    "## Criação de Agentes para Pesquisar e Escrever um Artigo\n",
    "\n",
    "Neste trabalho final, o objetivo é criar agentes de inteligência artificial que pesquisam e escrevem um artigo sobre um tema específico. A ferramenta utilizada para a criação dos agente é o [Crew AI](https://www.crewai.com/) que é uma ferramenta que facilita a orquestração e colaboração entre múltiplos agentes de inteligência artificial para resolver tarefas complexas. Ela permite que diferentes agentes, cada um com habilidades e responsabilidades específicas, trabalhem juntos de forma coordenada para atingir um objetivo comum.\n",
    "\n",
    "🔹 Principais recursos:\n",
    "- ✅ Coordenação entre múltiplos agentes IA\n",
    "- ✅ Especialização de agentes em diferentes tarefas\n",
    "- ✅ Automação de processos complexos\n",
    "- ✅ Integração com outras ferramentas e APIs\n",
    "\n",
    "Essa abordagem é útil para aplicações como automação de atendimento ao cliente, análise de dados, desenvolvimento de software e muito mais. "
   ]
  },
  {
   "cell_type": "markdown",
   "metadata": {},
   "source": [
    "## - Para instalar as bibliotecas necessárias, execute o comando abaixo:\n",
    "```Python\n",
    "pip install crewai==0.28.8 crewai_tools==0.1.6 langchain_community==0.0.29\n",
    "```"
   ]
  },
  {
   "cell_type": "code",
   "execution_count": null,
   "metadata": {
    "height": 64
   },
   "outputs": [],
   "source": [
    "# Warning control\n",
    "import warnings\n",
    "warnings.filterwarnings('ignore')"
   ]
  },
  {
   "cell_type": "markdown",
   "metadata": {},
   "source": [
    "- Importação das ferramentas da biblioteca CrewAI para funcionamento do código"
   ]
  },
  {
   "cell_type": "code",
   "execution_count": null,
   "metadata": {
    "height": 30
   },
   "outputs": [],
   "source": [
    "from crewai import Agent, Task, Crew"
   ]
  },
  {
   "cell_type": "markdown",
   "metadata": {},
   "source": [
    "- Como LLM para os agentes, é utilizado a `Mistral-7B-Instruct-v0.1` através da [Together AI](https://api.together.xyz/).\n",
    "- Para utilização da SERPER, é necessário a utilização de uma chave de API, que pode ser obtida através do site [SERPER](https://serper.dev/).\n",
    "- **Obervação:** O Crew AI ainda permite a utilização de outros modelos de LLM para os agentes. Porém decidimos utilizar o modelo `Mistral-7B-Instruct-v0.1` por ser um modelo relativamente robusto e de mais fácil uso.\n",
    "  \n",
    "- **Para funcionamento das variáveis abaixo, recomendamos fortemente que se siga os passos acima de modo a obter as chaves necessárias para que o código funcione sem problemas.**\n"
   ]
  },
  {
   "cell_type": "code",
   "execution_count": null,
   "metadata": {
    "height": 98
   },
   "outputs": [],
   "source": [
    "import os\n",
    "\n",
    "os.environ[\"OPENAI_MODEL_NAME\"] = \"mistralai/Mistral-7B-Instruct-v0.1\"\n",
    "os.environ[\"SERPER_API_KEY\"] = 'COLOQUE AQUI SUA CHAVE SERPER'\n",
    "os.environ[\"OPENAI_API_BASE\"] = \"https://api.together.xyz/v1\"\n",
    "os.environ[\"OPENAI_API_KEY\"] = \"COLOQUE AQUI SUA CHAVE GERADA EM TOGETHER AI\""
   ]
  },
  {
   "cell_type": "markdown",
   "metadata": {},
   "source": [
    "## Criando os Agentes\n",
    "\n",
    "- Defina seus agentes e dê a eles um `role`, `goal` e `backstory`.\n",
    "- Foi observado que os LLMs se saem melhor quando estão interpretando um papel."
   ]
  },
  {
   "cell_type": "markdown",
   "metadata": {},
   "source": [
    "### Agente: Planejador\n",
    "\n",
    "**Nota**: O benefício do uso de _multiple strings_ :\n",
    "```Python\n",
    "varname = \"line 1 of text\"\n",
    "          \"line 2 of text\"\n",
    "```\n",
    "\n",
    "Contra _triple quote docstring_:\n",
    "```Python\n",
    "varname = \"\"\"line 1 of text\n",
    "             line 2 of text\n",
    "          \"\"\"\n",
    "```\n",
    "é capaz de evitar a adição de espaços em branco e caracteres de nova linha, tornando-o melhor formatado para ser passado ao LLM."
   ]
  },
  {
   "cell_type": "code",
   "execution_count": null,
   "metadata": {
    "height": 234
   },
   "outputs": [],
   "source": [
    "planner = Agent(\n",
    "    role=\"Content Planner\",\n",
    "    goal=\"Plan engaging and factually accurate content on {topic}\",\n",
    "    backstory=\"You're working on planning a blog article \"\n",
    "              \"about the topic: {topic}.\"\n",
    "              \"You collect information that helps the \"\n",
    "              \"audience learn something \"\n",
    "              \"and make informed decisions. \"\n",
    "              \"Your work is the basis for \"\n",
    "              \"the Content Writer to write an article on this topic.\",\n",
    "    allow_delegation=False,\n",
    "\tverbose=True\n",
    ")"
   ]
  },
  {
   "cell_type": "markdown",
   "metadata": {},
   "source": [
    "### Agente: Escritor"
   ]
  },
  {
   "cell_type": "code",
   "execution_count": null,
   "metadata": {
    "height": 370
   },
   "outputs": [],
   "source": [
    "writer = Agent(\n",
    "    role=\"Content Writer\",\n",
    "    goal=\"Write insightful and factually accurate \"\n",
    "         \"opinion piece about the topic: {topic}\",\n",
    "    backstory=\"You're working on a writing \"\n",
    "              \"a new opinion piece about the topic: {topic}. \"\n",
    "              \"You base your writing on the work of \"\n",
    "              \"the Content Planner, who provides an outline \"\n",
    "              \"and relevant context about the topic. \"\n",
    "              \"You follow the main objectives and \"\n",
    "              \"direction of the outline, \"\n",
    "              \"as provide by the Content Planner. \"\n",
    "              \"You also provide objective and impartial insights \"\n",
    "              \"and back them up with information \"\n",
    "              \"provide by the Content Planner. \"\n",
    "              \"You acknowledge in your opinion piece \"\n",
    "              \"when your statements are opinions \"\n",
    "              \"as opposed to objective statements.\",\n",
    "    allow_delegation=False,\n",
    "    verbose=True\n",
    ")"
   ]
  },
  {
   "cell_type": "markdown",
   "metadata": {},
   "source": [
    "### Agente: Editor"
   ]
  },
  {
   "cell_type": "code",
   "execution_count": null,
   "metadata": {
    "height": 268
   },
   "outputs": [],
   "source": [
    "editor = Agent(\n",
    "    role=\"Editor\",\n",
    "    goal=\"Edit a given blog post to align with \"\n",
    "         \"the writing style of the organization. \",\n",
    "    backstory=\"You are an editor who receives a blog post \"\n",
    "              \"from the Content Writer. \"\n",
    "              \"Your goal is to review the blog post \"\n",
    "              \"to ensure that it follows journalistic best practices,\"\n",
    "              \"provides balanced viewpoints \"\n",
    "              \"when providing opinions or assertions, \"\n",
    "              \"and also avoids major controversial topics \"\n",
    "              \"or opinions when possible.\",\n",
    "    allow_delegation=False,\n",
    "    verbose=True\n",
    ")"
   ]
  },
  {
   "cell_type": "markdown",
   "metadata": {},
   "source": [
    "## Criando as Tarefas\n",
    "\n",
    "- Defina suas tarefas e forneça a elas uma `description`, `expected_output` e `agent`."
   ]
  },
  {
   "cell_type": "markdown",
   "metadata": {},
   "source": [
    "### Tarefa: Planejamento"
   ]
  },
  {
   "cell_type": "code",
   "execution_count": null,
   "metadata": {
    "height": 268
   },
   "outputs": [],
   "source": [
    "plan = Task(\n",
    "    description=(\n",
    "        \"1. Prioritize the latest trends, key players, \"\n",
    "            \"and noteworthy news on {topic}.\\n\"\n",
    "        \"2. Identify the target audience, considering \"\n",
    "            \"their interests and pain points.\\n\"\n",
    "        \"3. Develop a detailed content outline including \"\n",
    "            \"an introduction, key points, and a call to action.\\n\"\n",
    "        \"4. Include SEO keywords and relevant data or sources.\"\n",
    "    ),\n",
    "    expected_output=\"A comprehensive content plan document \"\n",
    "        \"with an outline, audience analysis, \"\n",
    "        \"SEO keywords, and resources.\",\n",
    "    agent=planner,\n",
    ")"
   ]
  },
  {
   "cell_type": "markdown",
   "metadata": {},
   "source": [
    "### Tarefa: Escrita"
   ]
  },
  {
   "cell_type": "code",
   "execution_count": null,
   "metadata": {
    "height": 319
   },
   "outputs": [],
   "source": [
    "write = Task(\n",
    "    description=(\n",
    "        \"1. Use the content plan to craft a compelling \"\n",
    "            \"blog post on {topic}.\\n\"\n",
    "        \"2. Incorporate SEO keywords naturally.\\n\"\n",
    "\t\t\"3. Sections/Subtitles are properly named \"\n",
    "            \"in an engaging manner.\\n\"\n",
    "        \"4. Ensure the post is structured with an \"\n",
    "            \"engaging introduction, insightful body, \"\n",
    "            \"and a summarizing conclusion.\\n\"\n",
    "        \"5. Proofread for grammatical errors and \"\n",
    "            \"alignment with the brand's voice.\\n\"\n",
    "    ),\n",
    "    expected_output=\"A well-written blog post \"\n",
    "        \"in markdown format, ready for publication, \"\n",
    "        \"each section should have 2 or 3 paragraphs.\",\n",
    "    agent=writer,\n",
    ")"
   ]
  },
  {
   "cell_type": "markdown",
   "metadata": {},
   "source": [
    "### Tarefa: Edição"
   ]
  },
  {
   "cell_type": "code",
   "execution_count": null,
   "metadata": {
    "height": 166
   },
   "outputs": [],
   "source": [
    "edit = Task(\n",
    "    description=(\"Proofread the given blog post for \"\n",
    "                 \"grammatical errors and \"\n",
    "                 \"alignment with the brand's voice.\"),\n",
    "    expected_output=\"A well-written blog post in markdown format, \"\n",
    "                    \"ready for publication, \"\n",
    "                    \"each section should have 2 or 3 paragraphs.\",\n",
    "    agent=editor\n",
    ")"
   ]
  },
  {
   "cell_type": "markdown",
   "metadata": {},
   "source": [
    "## Criando a Crew\n",
    "\n",
    "- Criar a crew de agentes.\n",
    "- Passar as tarefas a serem realizadas por esses agentes.\n",
    "    - **Nota**: *Para este exemplo simples*, as tarefas serão realizadas sequencialmente (ou seja, elas são dependentes umas das outras), então a _order_ da tarefa na lista _matters_.\n",
    "- `verbose=2` permite que você veja todos os logs da execução."
   ]
  },
  {
   "cell_type": "code",
   "execution_count": null,
   "metadata": {
    "height": 98
   },
   "outputs": [],
   "source": [
    "crew = Crew(\n",
    "    agents=[planner, writer, editor],\n",
    "    tasks=[plan, write, edit],\n",
    "    verbose=2\n",
    ")"
   ]
  },
  {
   "cell_type": "markdown",
   "metadata": {},
   "source": [
    "## Rodando a Crew"
   ]
  },
  {
   "cell_type": "markdown",
   "metadata": {},
   "source": [
    "**Nota**: LLMs podem prover diferentes saídas para a mesma entrada, então o que você obtém em uma primeira entrada pode ser diferente de uma outra entrada utilizando o mesmo tema."
   ]
  },
  {
   "cell_type": "code",
   "execution_count": null,
   "metadata": {
    "height": 30
   },
   "outputs": [],
   "source": [
    "result = crew.kickoff(inputs={\"topic\": \"Artificial Intelligence\"})"
   ]
  },
  {
   "cell_type": "markdown",
   "metadata": {},
   "source": [
    "- Mostra os resultados da execução como markdown no notebook."
   ]
  },
  {
   "cell_type": "code",
   "execution_count": null,
   "metadata": {
    "height": 47
   },
   "outputs": [],
   "source": [
    "# Salvar o resultado em um arquivo Markdown (.md)\n",
    "md_filename = \"result.md\"\n",
    "\n",
    "with open(md_filename, \"w\", encoding=\"utf-8\") as f:\n",
    "    f.write(result)\n",
    "\n",
    "print(f\"Arquivo Markdown gerado: {md_filename}\")\n"
   ]
  },
  {
   "cell_type": "markdown",
   "metadata": {},
   "source": [
    "## Tente você mesmo\n",
    "\n",
    "- Escreva um tópico da sua escolha e veja como os agentes se saem."
   ]
  },
  {
   "cell_type": "code",
   "execution_count": null,
   "metadata": {
    "height": 47
   },
   "outputs": [],
   "source": [
    "topic = \"COLOQUE AQUI SEU TÓPICO DE INTERESSE\"\n",
    "result = crew.kickoff(inputs={\"topic\": topic})"
   ]
  },
  {
   "cell_type": "markdown",
   "metadata": {},
   "source": [
    "- Rode a célula abaixo para gerar um arquivo .md que renderize exatamente o que foi gerado na célula acima."
   ]
  },
  {
   "cell_type": "code",
   "execution_count": null,
   "metadata": {
    "height": 30
   },
   "outputs": [],
   "source": [
    "# Salvar o resultado em um arquivo Markdown (.md)\n",
    "md_filename = \"your_result.md\"\n",
    "\n",
    "with open(md_filename, \"w\", encoding=\"utf-8\") as f:\n",
    "    f.write(result)\n"
   ]
  }
 ],
 "metadata": {
  "colab": {
   "gpuType": "T4",
   "provenance": []
  },
  "kernelspec": {
   "display_name": "Python 3",
   "language": "python",
   "name": "python3"
  },
  "language_info": {
   "codemirror_mode": {
    "name": "ipython",
    "version": 3
   },
   "file_extension": ".py",
   "mimetype": "text/x-python",
   "name": "python",
   "nbconvert_exporter": "python",
   "pygments_lexer": "ipython3",
   "version": "3.11.1"
  }
 },
 "nbformat": 4,
 "nbformat_minor": 4
}
